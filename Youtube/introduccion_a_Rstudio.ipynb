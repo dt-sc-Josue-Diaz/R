{
 "cells": [
  {
   "attachments": {},
   "cell_type": "markdown",
   "metadata": {},
   "source": [
    "# Introducción a R y Rstudio\n",
    "R es un lenguaje de programación para el análisis estadístico. Es un lenguaje mas robusto que excel. Es de los 90 con origenes académicos. Es el programa que se dio en la popularidad sobre ciencia de datos. Sin embargo python lo está desplazando. \n",
    "\n",
    "- Análisis exploratorio.\n",
    "- Visulizaciones sencillas. \n"
   ]
  },
  {
   "attachments": {},
   "cell_type": "markdown",
   "metadata": {},
   "source": [
    "## Instalación de R\n",
    "- Desde la página del proyecto. La versión de base. Instalción sencilla.\n",
    "\n",
    "## Instalación de Rstudio\n",
    "Es el IDE,  la versión de código abierto, las versiones de pago son con soporte empresarial. \n",
    "\n",
    "\n",
    "\n"
   ]
  },
  {
   "attachments": {},
   "cell_type": "markdown",
   "metadata": {},
   "source": [
    "## Básicos de  Rstudio\n",
    "Componentes; Rstudio se comprende de cuatro ventanas. \n",
    "\n",
    "- Scrip\n",
    "- Terminal o consola. \n",
    "- Entorno.\n",
    "- Files y gráficas.\n",
    "\n",
    "Consola:\n",
    "Es un emulador de R, permite hacer los calculos desde terminal. \n",
    "\n",
    "Files/plots/Recursos de ayuda.\n",
    "Es una ventana donde estarán graficas, archivos y paquetes. \n",
    "\n",
    "Enviroment\n",
    "Es donde se guardan las varaibles o tipos de datos en la sesión actual.\n",
    "\n",
    "Script\n",
    "Es donde podemos, hacer archivos con extensión R, donde podemos guardar instrucciones que son reutilizables. Estos se ejecutan lineas por lineas. Si se selecciona una linea y se ejecuta, solo la lina seleccionada se ejecuta. En un recurso mas avanzado se usa Rmarkdown. \n",
    "\n",
    "\n"
   ]
  },
  {
   "attachments": {},
   "cell_type": "markdown",
   "metadata": {},
   "source": [
    "Los objetos en R, son variables. "
   ]
  },
  {
   "attachments": {},
   "cell_type": "markdown",
   "metadata": {},
   "source": []
  }
 ],
 "metadata": {
  "kernelspec": {
   "display_name": "R",
   "language": "R",
   "name": "ir"
  },
  "language_info": {
   "name": "R"
  },
  "orig_nbformat": 4
 },
 "nbformat": 4,
 "nbformat_minor": 2
}
