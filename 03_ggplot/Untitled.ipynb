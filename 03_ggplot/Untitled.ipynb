{
 "cells": [
  {
   "cell_type": "markdown",
   "id": "eb6fdf4a",
   "metadata": {},
   "source": [
    "# Básicos ggplot2\n",
    "Instalacion de la libreria tidyverse:\n",
    "- install.packages('tidyverse')"
   ]
  },
  {
   "cell_type": "code",
   "execution_count": 1,
   "id": "3a5cb627",
   "metadata": {},
   "outputs": [
    {
     "ename": "ERROR",
     "evalue": "Error in library(tidyverse): there is no package called 'tidyverse'\n",
     "output_type": "error",
     "traceback": [
      "Error in library(tidyverse): there is no package called 'tidyverse'\nTraceback:\n",
      "1. library(tidyverse)"
     ]
    }
   ],
   "source": [
    "# Instalar l\n",
    "# Cargar librerias\n",
    "\n",
    "library(tidyverse)\n",
    "library(readxl)"
   ]
  }
 ],
 "metadata": {
  "kernelspec": {
   "display_name": "R",
   "language": "R",
   "name": "ir"
  },
  "language_info": {
   "codemirror_mode": "r",
   "file_extension": ".r",
   "mimetype": "text/x-r-source",
   "name": "R",
   "pygments_lexer": "r",
   "version": "3.6.1"
  }
 },
 "nbformat": 4,
 "nbformat_minor": 5
}
